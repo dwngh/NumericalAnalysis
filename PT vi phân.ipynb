{
 "cells": [
  {
   "cell_type": "code",
   "execution_count": 30,
   "id": "507ddeab-2bcc-49fe-86ff-b99c545448da",
   "metadata": {},
   "outputs": [],
   "source": [
    "import math"
   ]
  },
  {
   "cell_type": "code",
   "execution_count": 168,
   "id": "6cfc022d-85ce-48d1-a729-8dd6281139f8",
   "metadata": {},
   "outputs": [],
   "source": [
    "def f(t, y):\n",
    "    return (2 - 2 * t * y) / (1 + t ** 2) "
   ]
  },
  {
   "cell_type": "code",
   "execution_count": 169,
   "id": "d2d15c3a-0dd2-4051-a310-7fe23e952c6d",
   "metadata": {},
   "outputs": [],
   "source": [
    "y_0 = 1\n",
    "t_0 = 0\n",
    "h = 0.1"
   ]
  },
  {
   "cell_type": "code",
   "execution_count": 180,
   "id": "15d3947c-30b4-40b2-9594-ae1bc94c1daf",
   "metadata": {},
   "outputs": [],
   "source": [
    "def runge_kutta_4(t_0, y_0, h, iter):\n",
    "    times = 0\n",
    "    t = t_0\n",
    "    y = y_0\n",
    "    r = [round(y_0, 5)]\n",
    "    while iter > 0:\n",
    "        k_1 = f(t, y)\n",
    "        k_2 = f(t + 0.5 * h, y + 0.5 * k_1 * h)\n",
    "        k_3 = f(t + 0.5 * h, y + 0.5 * k_2 * h)\n",
    "        k_4 = f(t + h, y + k_3 * h)\n",
    "        y_1 = y + h / 6 * (k_1 + 2 * k_2 + 2 * k_3 + k_4)\n",
    "        print(f'k_1 = {k_1} ; k_2 = {k_2}; k_3 = {k_3}; k_4 = {k_4}')\n",
    "        times += 1\n",
    "        t += h\n",
    "        print(f\"f({t}) = y_{times} = {y_1}\")\n",
    "        r.append(round(y_1, 5))\n",
    "        y = y_1\n",
    "        print(\"-------------------------------------\")\n",
    "        iter -= 1\n",
    "    \n",
    "    return r\n",
    "        "
   ]
  },
  {
   "cell_type": "code",
   "execution_count": 181,
   "id": "164736af-13b7-47dd-9a7e-fc43d0bbb99b",
   "metadata": {},
   "outputs": [
    {
     "name": "stdout",
     "output_type": "stream",
     "text": [
      "k_1 = 2.0 ; k_2 = 1.885286783042394; k_3 = 1.8858589187878185; k_4 = 1.7448344768556867\n",
      "f(0.1) = y_1 = 1.1881187646752684\n",
      "-------------------------------------\n",
      "k_1 = 1.744926977292026 ; k_2 = 1.5817999666875686; k_3 = 1.5841930279678298; k_4 = 1.405177666356903\n",
      "f(0.2) = y_2 = 1.3461536085579304\n",
      "-------------------------------------\n",
      "k_1 = 1.4053255351700267 ; k_2 = 1.2158024069099143; k_3 = 1.220261774633682; k_4 = 1.0266900260433216\n",
      "f(0.30000000000000004) = y_3 = 1.467889340629606\n",
      "-------------------------------------\n",
      "k_1 = 1.0268499042405836 ; k_2 = 0.8343320400096704; k_3 = 0.8403348241950442; k_4 = 0.6538463289316478\n",
      "f(0.4) = y_4 = 1.5517231733226338\n",
      "-------------------------------------\n",
      "k_1 = 0.6539840183981834 ; k_2 = 0.4773553955773066; k_3 = 0.48396519851031244; k_4 = 0.319904245461068\n",
      "f(0.5) = y_5 = 1.5999986641898754\n",
      "-------------------------------------\n",
      "k_1 = 0.32000106864809974 ; k_2 = 0.17074964346678806; k_3 = 0.1770520069101448; k_4 = 0.04320247216392074\n",
      "f(0.6) = y_6 = 1.61764544488264\n",
      "-------------------------------------\n",
      "k_1 = 0.04325401922120005 ; k_2 = -0.07434136351269599; k_3 = -0.06896793653364278; k_4 = -0.17117322934294346\n",
      "f(0.7) = y_7 = 1.6107364813790663\n",
      "-------------------------------------\n",
      "k_1 = -0.17116179458435765 ; k_2 = -0.25809125598385435; k_3 = -0.2539186418366788; k_4 = -0.3271654801906325\n",
      "f(0.7999999999999999) = y_8 = 1.5853640302054655\n",
      "-------------------------------------\n",
      "k_1 = -0.3271844197126491 ; k_2 = -0.38740677833016884; k_3 = -0.384434992854123; k_4 = -0.43340163295916867\n",
      "f(0.8999999999999999) = y_9 = 1.5469595369547922\n",
      "-------------------------------------\n",
      "k_1 = -0.4334404234909535 ; k_2 = -0.4720348383613481; k_3 = -0.4701076533875306; k_4 = -0.49994877161603896\n",
      "f(0.9999999999999999) = y_10 = 1.499998300644713\n",
      "-------------------------------------\n"
     ]
    }
   ],
   "source": [
    "y_runge_kutta = runge_kutta_4(t_0, y_0, 0.1, 10)"
   ]
  },
  {
   "cell_type": "code",
   "execution_count": 182,
   "id": "deda5cdd-f922-4c15-8a32-9dd9a472d7e4",
   "metadata": {},
   "outputs": [],
   "source": [
    "import numpy as np\n",
    "from copy import deepcopy\n",
    "actual = []\n",
    "for i in np.arange(0, 1.1, 0.1):\n",
    "    actual.append((2 * i + 1) / (i ** 2 + 1))"
   ]
  },
  {
   "cell_type": "code",
   "execution_count": 173,
   "id": "0a6f4b1e-0f1a-495b-8eed-a1a1f8c6b7c0",
   "metadata": {},
   "outputs": [],
   "source": [
    "def two_step_predictor_corrector(f, y, t_0, h, iter, corrector_k):\n",
    "    if (len(y) < 2):\n",
    "        print(\"Insufficient data\")\n",
    "        return\n",
    "    r = deepcopy(y[:2])\n",
    "    t_i = t_0 + h\n",
    "    y_i = r[1]\n",
    "    y_i_prev = r[0]\n",
    "    r[1], r[0] = round(r[1], 5), round(r[0], 5)\n",
    "    t_i_prev = t_0\n",
    "    while iter > 0:\n",
    "        y_next_pred = y_i + h * (1.5 * f(t_i, y_i) - 0.5 * f(t_i_prev, y_i_prev))\n",
    "        y_correct = y_next_pred\n",
    "        t_current = t_i + h\n",
    "        for _ in range(corrector_k):\n",
    "            y_correct = y_i + h * (0.5 * f(t_current, y_correct) + 0.5 * f(t_i, y_i))\n",
    "\n",
    "        y_i_prev = y_i\n",
    "        t_i_prev = t_i\n",
    "        y_i = y_correct\n",
    "        t_i = t_current\n",
    "        y_correct = round(y_correct, 5)\n",
    "        print(f\"At t = {round(t_current, 1)}, the function f(t = {round(t_current, 1)}) = {y_correct}\")\n",
    "        r.append(y_correct)\n",
    "        iter -= 1\n",
    "    return r"
   ]
  },
  {
   "cell_type": "code",
   "execution_count": 174,
   "id": "f64937a4-0b91-4422-8ef6-b6adbef6cefe",
   "metadata": {},
   "outputs": [],
   "source": [
    "def three_step_predictor_corrector(f, y, t_0, h, iter, corrector_k):\n",
    "    if (len(y) < 3):\n",
    "        print(\"Insufficient data\")\n",
    "        return\n",
    "    r = deepcopy(y[:3])\n",
    "    t_i = t_0 + 2 * h\n",
    "    t_i_prev1 = t_0 + h\n",
    "    t_i_prev2 = t_0\n",
    "    y_i = r[2]\n",
    "    y_i_prev1 = r[1]\n",
    "    y_i_prev2 = r[0]\n",
    "\n",
    "    r[2], r[1], r[0] = round(r[2], 5), round(r[1], 5), round(r[0], 5)\n",
    "\n",
    "    while iter > 0:\n",
    "        y_next_pred = y_i + h / 12 * (23 * f(t_i, y_i) - 16 * f(t_i_prev1, y_i_prev1) + 5 * f(t_i_prev2, y_i_prev2))\n",
    "        y_correct = y_next_pred\n",
    "        t_current = t_i + h\n",
    "        for _ in range(corrector_k):\n",
    "            y_correct = y_i + h / 12 * (5 * f(t_current, y_correct) + 8 * f(t_i, y_i) - f(t_i_prev1, y_i_prev1))\n",
    "\n",
    "        y_i_prev2, t_i_prev2 = y_i_prev1, t_i_prev1\n",
    "        y_i_prev1, t_i_prev1 = y_i, t_i\n",
    "        y_i = y_correct\n",
    "        t_i = t_current\n",
    "        y_correct = round(y_correct, 5)\n",
    "        print(f\"At t = {round(t_current, 1)}, the function f(t = {round(t_current, 1)}) = {y_correct}\")\n",
    "        r.append(y_correct)        \n",
    "        \n",
    "        iter -= 1\n",
    "    return r"
   ]
  },
  {
   "cell_type": "code",
   "execution_count": 175,
   "id": "703a7c08-6ae8-4d6b-ba04-cb887d28efed",
   "metadata": {},
   "outputs": [],
   "source": [
    "def four_step_predictor_corrector(f, y, t_0, h, iter, corrector_k):\n",
    "    if (len(y) < 4):\n",
    "        print(\"Insufficient data\")\n",
    "        return\n",
    "    r = deepcopy(y[:4])\n",
    "    t_i = t_0 + 3 * h\n",
    "    t_i_prev1 = t_0 + 2 * h\n",
    "    t_i_prev2 = t_0 + h\n",
    "    t_i_prev3 = t_0 + h\n",
    "    y_i = r[3]\n",
    "    y_i_prev1 = r[2]\n",
    "    y_i_prev2 = r[1]\n",
    "    y_i_prev3 = r[0]\n",
    "\n",
    "    r[3], r[2], r[1], r[0] = round(r[3], 5), round(r[2], 5), round(r[1], 5), round(r[0], 5)\n",
    "\n",
    "    while iter > 0:\n",
    "        y_next_pred = y_i + h / 24 * (55 * f(t_i, y_i) - 59 * f(t_i_prev1, y_i_prev1) + 37 * f(t_i_prev2, y_i_prev2) - 9 * f(t_i_prev3, y_i_prev3))\n",
    "        y_correct = y_next_pred\n",
    "        t_current = t_i + h\n",
    "        for _ in range(corrector_k):\n",
    "            y_correct = y_i + h / 24 * (9 * f(t_current, y_correct) + 19 * f(t_i, y_i) - 5 * f(t_i_prev1, y_i_prev1) + f(t_i_prev2, y_i_prev2))\n",
    "\n",
    "        y_i_prev3, t_i_prev3 = y_i_prev2, t_i_prev2\n",
    "        y_i_prev2, t_i_prev2 = y_i_prev1, t_i_prev1\n",
    "        y_i_prev1, t_i_prev1 = y_i, t_i\n",
    "        y_i = y_correct\n",
    "        t_i = t_current\n",
    "        y_correct = round(y_correct, 5)\n",
    "        print(f\"At t = {round(t_current, 1)}, the function f(t = {round(t_current, 1)}) = {y_correct}\")\n",
    "        r.append(y_correct)        \n",
    "        \n",
    "        iter -= 1\n",
    "    return r"
   ]
  },
  {
   "cell_type": "code",
   "execution_count": 176,
   "id": "939ccea2-3019-43e8-8ee3-8a9d76426d8f",
   "metadata": {},
   "outputs": [
    {
     "name": "stdout",
     "output_type": "stream",
     "text": [
      "At t = 0.2, the function f(t = 0.2) = 1.34564\n",
      "At t = 0.3, the function f(t = 0.3) = 1.46728\n",
      "At t = 0.4, the function f(t = 0.4) = 1.55135\n",
      "At t = 0.5, the function f(t = 0.5) = 1.60006\n",
      "At t = 0.6, the function f(t = 0.6) = 1.61819\n",
      "At t = 0.7, the function f(t = 0.7) = 1.61173\n",
      "At t = 0.8, the function f(t = 0.8) = 1.5867\n",
      "At t = 0.9, the function f(t = 0.9) = 1.54852\n",
      "At t = 1.0, the function f(t = 1.0) = 1.50169\n",
      "At t = 0.3, the function f(t = 0.3) = 1.46808\n",
      "At t = 0.4, the function f(t = 0.4) = 1.55206\n",
      "At t = 0.5, the function f(t = 0.5) = 1.60041\n",
      "At t = 0.6, the function f(t = 0.6) = 1.61806\n",
      "At t = 0.7, the function f(t = 0.7) = 1.61111\n",
      "At t = 0.8, the function f(t = 0.8) = 1.58567\n",
      "At t = 0.9, the function f(t = 0.9) = 1.5472\n",
      "At t = 1.0, the function f(t = 1.0) = 1.50017\n",
      "At t = 0.4, the function f(t = 0.4) = 1.5517\n",
      "At t = 0.5, the function f(t = 0.5) = 1.59994\n",
      "At t = 0.6, the function f(t = 0.6) = 1.61755\n",
      "At t = 0.7, the function f(t = 0.7) = 1.61063\n",
      "At t = 0.8, the function f(t = 0.8) = 1.58525\n",
      "At t = 0.9, the function f(t = 0.9) = 1.54685\n",
      "At t = 1.0, the function f(t = 1.0) = 1.4999\n"
     ]
    }
   ],
   "source": [
    "y_two_step = two_step_predictor_corrector(f, y_runge_kutta, 0, 0.1, 9, 4)\n",
    "y_three_step = three_step_predictor_corrector(f, y_runge_kutta, 0, 0.1, 8, 4)\n",
    "y_four_step = four_step_predictor_corrector(f, y_runge_kutta, 0, 0.1, 7, 4)"
   ]
  },
  {
   "cell_type": "code",
   "execution_count": 164,
   "id": "8dd23556-b57a-4f75-a0a5-69ab4e66b2c4",
   "metadata": {},
   "outputs": [],
   "source": [
    "y_runge_kutta = y_runge_kutta[:-1]"
   ]
  },
  {
   "cell_type": "code",
   "execution_count": 183,
   "id": "7d4fd068-b565-4dc5-aaf8-43e94d1072aa",
   "metadata": {},
   "outputs": [],
   "source": [
    "dictA = {\"t\": np.arange(0, 1.1, 0.1), \"Runge-Kutta\": y_runge_kutta, \n",
    "         \"2 step\": y_two_step, \"3 step\": y_three_step, \"4 step\": y_four_step, \"Actual\": actual}"
   ]
  },
  {
   "cell_type": "code",
   "execution_count": 184,
   "id": "e3ab1711-b924-4f38-a642-09a5c30503de",
   "metadata": {},
   "outputs": [],
   "source": [
    "import pandas as pd"
   ]
  },
  {
   "cell_type": "code",
   "execution_count": 190,
   "id": "ce057438-517e-4d3b-b74c-b83d9def1861",
   "metadata": {},
   "outputs": [
    {
     "name": "stdout",
     "output_type": "stream",
     "text": [
      "   Do Quang Huy - 20021365\n",
      "   2a:\n"
     ]
    },
    {
     "data": {
      "text/html": [
       "<div>\n",
       "<style scoped>\n",
       "    .dataframe tbody tr th:only-of-type {\n",
       "        vertical-align: middle;\n",
       "    }\n",
       "\n",
       "    .dataframe tbody tr th {\n",
       "        vertical-align: top;\n",
       "    }\n",
       "\n",
       "    .dataframe thead th {\n",
       "        text-align: right;\n",
       "    }\n",
       "</style>\n",
       "<table border=\"1\" class=\"dataframe\">\n",
       "  <thead>\n",
       "    <tr style=\"text-align: right;\">\n",
       "      <th></th>\n",
       "      <th>t</th>\n",
       "      <th>Runge-Kutta</th>\n",
       "      <th>2 step</th>\n",
       "      <th>3 step</th>\n",
       "      <th>4 step</th>\n",
       "      <th>Actual</th>\n",
       "    </tr>\n",
       "  </thead>\n",
       "  <tbody>\n",
       "    <tr>\n",
       "      <th>0</th>\n",
       "      <td>0.0</td>\n",
       "      <td>1.00000</td>\n",
       "      <td>1.00000</td>\n",
       "      <td>1.00000</td>\n",
       "      <td>1.00000</td>\n",
       "      <td>1.000000</td>\n",
       "    </tr>\n",
       "    <tr>\n",
       "      <th>1</th>\n",
       "      <td>0.1</td>\n",
       "      <td>1.18812</td>\n",
       "      <td>1.18812</td>\n",
       "      <td>1.18812</td>\n",
       "      <td>1.18812</td>\n",
       "      <td>1.188119</td>\n",
       "    </tr>\n",
       "    <tr>\n",
       "      <th>2</th>\n",
       "      <td>0.2</td>\n",
       "      <td>1.34615</td>\n",
       "      <td>1.34564</td>\n",
       "      <td>1.34615</td>\n",
       "      <td>1.34615</td>\n",
       "      <td>1.346154</td>\n",
       "    </tr>\n",
       "    <tr>\n",
       "      <th>3</th>\n",
       "      <td>0.3</td>\n",
       "      <td>1.46789</td>\n",
       "      <td>1.46728</td>\n",
       "      <td>1.46808</td>\n",
       "      <td>1.46789</td>\n",
       "      <td>1.467890</td>\n",
       "    </tr>\n",
       "    <tr>\n",
       "      <th>4</th>\n",
       "      <td>0.4</td>\n",
       "      <td>1.55172</td>\n",
       "      <td>1.55135</td>\n",
       "      <td>1.55206</td>\n",
       "      <td>1.55170</td>\n",
       "      <td>1.551724</td>\n",
       "    </tr>\n",
       "    <tr>\n",
       "      <th>5</th>\n",
       "      <td>0.5</td>\n",
       "      <td>1.60000</td>\n",
       "      <td>1.60006</td>\n",
       "      <td>1.60041</td>\n",
       "      <td>1.59994</td>\n",
       "      <td>1.600000</td>\n",
       "    </tr>\n",
       "    <tr>\n",
       "      <th>6</th>\n",
       "      <td>0.6</td>\n",
       "      <td>1.61765</td>\n",
       "      <td>1.61819</td>\n",
       "      <td>1.61806</td>\n",
       "      <td>1.61755</td>\n",
       "      <td>1.617647</td>\n",
       "    </tr>\n",
       "    <tr>\n",
       "      <th>7</th>\n",
       "      <td>0.7</td>\n",
       "      <td>1.61074</td>\n",
       "      <td>1.61173</td>\n",
       "      <td>1.61111</td>\n",
       "      <td>1.61063</td>\n",
       "      <td>1.610738</td>\n",
       "    </tr>\n",
       "    <tr>\n",
       "      <th>8</th>\n",
       "      <td>0.8</td>\n",
       "      <td>1.58536</td>\n",
       "      <td>1.58670</td>\n",
       "      <td>1.58567</td>\n",
       "      <td>1.58525</td>\n",
       "      <td>1.585366</td>\n",
       "    </tr>\n",
       "    <tr>\n",
       "      <th>9</th>\n",
       "      <td>0.9</td>\n",
       "      <td>1.54696</td>\n",
       "      <td>1.54852</td>\n",
       "      <td>1.54720</td>\n",
       "      <td>1.54685</td>\n",
       "      <td>1.546961</td>\n",
       "    </tr>\n",
       "    <tr>\n",
       "      <th>10</th>\n",
       "      <td>1.0</td>\n",
       "      <td>1.50000</td>\n",
       "      <td>1.50169</td>\n",
       "      <td>1.50017</td>\n",
       "      <td>1.49990</td>\n",
       "      <td>1.500000</td>\n",
       "    </tr>\n",
       "  </tbody>\n",
       "</table>\n",
       "</div>"
      ],
      "text/plain": [
       "      t  Runge-Kutta   2 step   3 step   4 step    Actual\n",
       "0   0.0      1.00000  1.00000  1.00000  1.00000  1.000000\n",
       "1   0.1      1.18812  1.18812  1.18812  1.18812  1.188119\n",
       "2   0.2      1.34615  1.34564  1.34615  1.34615  1.346154\n",
       "3   0.3      1.46789  1.46728  1.46808  1.46789  1.467890\n",
       "4   0.4      1.55172  1.55135  1.55206  1.55170  1.551724\n",
       "5   0.5      1.60000  1.60006  1.60041  1.59994  1.600000\n",
       "6   0.6      1.61765  1.61819  1.61806  1.61755  1.617647\n",
       "7   0.7      1.61074  1.61173  1.61111  1.61063  1.610738\n",
       "8   0.8      1.58536  1.58670  1.58567  1.58525  1.585366\n",
       "9   0.9      1.54696  1.54852  1.54720  1.54685  1.546961\n",
       "10  1.0      1.50000  1.50169  1.50017  1.49990  1.500000"
      ]
     },
     "execution_count": 190,
     "metadata": {},
     "output_type": "execute_result"
    }
   ],
   "source": [
    "print(\"   Do Quang Huy - 20021365\")\n",
    "print(\"   2a:\")\n",
    "pd.DataFrame.from_dict(dictA)"
   ]
  },
  {
   "cell_type": "code",
   "execution_count": 188,
   "id": "f30dc67b-6e6b-434f-8b94-3598592f0c59",
   "metadata": {},
   "outputs": [
    {
     "data": {
      "text/plain": [
       "5"
      ]
     },
     "execution_count": 188,
     "metadata": {},
     "output_type": "execute_result"
    }
   ],
   "source": [
    "1365 % 8"
   ]
  },
  {
   "cell_type": "code",
   "execution_count": null,
   "id": "6c0bedd1-0e22-4de4-aa96-8605c8e60d36",
   "metadata": {},
   "outputs": [],
   "source": []
  }
 ],
 "metadata": {
  "kernelspec": {
   "display_name": "Python 3 (ipykernel)",
   "language": "python",
   "name": "python3"
  },
  "language_info": {
   "codemirror_mode": {
    "name": "ipython",
    "version": 3
   },
   "file_extension": ".py",
   "mimetype": "text/x-python",
   "name": "python",
   "nbconvert_exporter": "python",
   "pygments_lexer": "ipython3",
   "version": "3.11.9"
  }
 },
 "nbformat": 4,
 "nbformat_minor": 5
}
