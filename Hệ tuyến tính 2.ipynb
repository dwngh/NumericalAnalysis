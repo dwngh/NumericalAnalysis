{
 "cells": [
  {
   "cell_type": "markdown",
   "id": "41b5a600-9078-4eff-b318-23cb6b61d21c",
   "metadata": {},
   "source": [
    "Solve $Ax=b$, where:\n",
    "$$\n",
    "A=\\begin{bmatrix}\n",
    "5 & 1 & 2 \\\\\n",
    "1 & 4 & -2 \\\\\n",
    "2 & 3 & 8\n",
    "\\end{bmatrix},\n",
    "b=\\begin{bmatrix}\n",
    "19 \\\\\n",
    "-2 \\\\\n",
    "39\n",
    "\\end{bmatrix}.\n",
    "$$"
   ]
  },
  {
   "cell_type": "markdown",
   "id": "3ad3c2e0-29a8-4fde-8d0a-e645dfb581a3",
   "metadata": {},
   "source": [
    "### Phương pháp lặp Gauss-Seidel"
   ]
  },
  {
   "cell_type": "markdown",
   "id": "215c96d5-a305-4705-be58-5bdeae492d00",
   "metadata": {},
   "source": [
    "$$\n",
    "A'=\\begin{bmatrix}\n",
    "1 & 0.2 & 0.4 \\\\\n",
    "0.25 & 1 & -0.5 \\\\\n",
    "0.25 & 0.375 & 1\n",
    "\\end{bmatrix}, b' = \\begin{bmatrix}\n",
    "3.8 \\\\\n",
    "-0.5 \\\\\n",
    "4.875\n",
    "\\end{bmatrix}\n",
    "$$\n",
    "\n",
    "$$\n",
    "A' = L + U + I\n",
    "$$\n",
    "\n",
    "$$\n",
    "L = \\begin{bmatrix}\n",
    "0 & 0 & 0 \\\\\n",
    "0.25 & 0 & 0 \\\\\n",
    "0.25 & 0.375 & 0\n",
    "\\end{bmatrix}, \n",
    "U = \\begin{bmatrix}\n",
    "0 & 0.2 & 0.4 \\\\\n",
    "0 & 0 & -0.5 \\\\\n",
    "0 & 0 & 0\n",
    "\\end{bmatrix}\n",
    "$$\n",
    "\n",
    "$$\n",
    "C = (I + L)^{-1} = \\begin{bmatrix}\n",
    "1 & 0 & 0 \\\\\n",
    "-0.25 & 1 & 0 \\\\\n",
    "-0.15625 & -0.375 & 1\n",
    "\\end{bmatrix}\n",
    "$$\n",
    "\n",
    "Now repeat until satisfying the condition\n",
    "$$x^{(k)} = C(b' - Ux^{(k-1)})$$"
   ]
  },
  {
   "cell_type": "markdown",
   "id": "2a934436-9513-4979-9c33-49cef3d887fb",
   "metadata": {},
   "source": [
    "#### Code implementation"
   ]
  },
  {
   "cell_type": "code",
   "execution_count": 1,
   "id": "6c630782-7812-469c-b05f-f841ec903877",
   "metadata": {},
   "outputs": [],
   "source": [
    "import numpy as np\n",
    "from numpy.linalg import inv\n"
   ]
  },
  {
   "cell_type": "code",
   "execution_count": 24,
   "id": "abbc6103-6c76-497c-b298-3688cef92783",
   "metadata": {},
   "outputs": [
    {
     "name": "stdout",
     "output_type": "stream",
     "text": [
      "[[ 1.       0.       0.     ]\n",
      " [-0.25     1.       0.     ]\n",
      " [-0.15625 -0.375    1.     ]]\n"
     ]
    }
   ],
   "source": [
    "L = np.array([[0, 0, 0], [0.25, 0, 0], [0.25, 0.375, 0]])\n",
    "U = np.array([[0, 0.2, 0.4], [0, 0, -0.5], [0, 0, 0]])\n",
    "C = inv(np.eye(3) + L)\n",
    "print(C)"
   ]
  },
  {
   "cell_type": "code",
   "execution_count": 25,
   "id": "35a1d542-d779-4e81-9b12-9121eec049a0",
   "metadata": {},
   "outputs": [],
   "source": [
    "x = [1, 1, 1]\n",
    "b = [3.8, -0.5, 4.875]"
   ]
  },
  {
   "cell_type": "code",
   "execution_count": 28,
   "id": "47f5cdd4-273d-4f42-a455-95cf6dc76b43",
   "metadata": {},
   "outputs": [
    {
     "name": "stdout",
     "output_type": "stream",
     "text": [
      "Iter 5, x=[2.21     1.135    3.896875]\n",
      "Iter 5, x=[2.01425    0.944875   4.01710938]\n",
      "Iter 5, x=[2.00418125 1.00750938 3.99613867]\n",
      "Iter 5, x=[2.00004266 0.99805867 4.00071733]\n",
      "Iter 5, x=[2.00010133 1.00033333 3.99984967]\n"
     ]
    }
   ],
   "source": [
    "iter = 5\n",
    "for i in range(iter):\n",
    "    x = - C @ U @ x + C @ b\n",
    "    print(f'Iter {iter}, x={x}')"
   ]
  },
  {
   "cell_type": "code",
   "execution_count": 27,
   "id": "28119c39-19ee-4e57-92d8-712c4fb2e472",
   "metadata": {},
   "outputs": [
    {
     "data": {
      "text/plain": [
       "array([ 3.2  , -0.8  ,  4.375])"
      ]
     },
     "execution_count": 27,
     "metadata": {},
     "output_type": "execute_result"
    }
   ],
   "source": [
    "x"
   ]
  },
  {
   "cell_type": "markdown",
   "id": "dfd942e7-6dbd-4a02-9226-bc4a4e07058e",
   "metadata": {},
   "source": [
    "## Phương pháp Jacobi"
   ]
  },
  {
   "cell_type": "markdown",
   "id": "ea759ad1-e16c-4706-87c7-e22633173be7",
   "metadata": {},
   "source": [
    "$$\n",
    "A'=\\begin{bmatrix}\n",
    "1 & 0.2 & 0.4 \\\\\n",
    "0.25 & 1 & -0.5 \\\\\n",
    "0.25 & 0.375 & 1\n",
    "\\end{bmatrix}, b' = \\begin{bmatrix}\n",
    "3.8 \\\\\n",
    "-0.5 \\\\\n",
    "4.875\n",
    "\\end{bmatrix}\n",
    "$$\n",
    "\n",
    "$$I - A' = \\begin{bmatrix}\n",
    "0 & -0.2 & -0.4 \\\\\n",
    "-0.25 & 0 & 0.5 \\\\\n",
    "-0.25 & -0.375 & 0\n",
    "\\end{bmatrix}, d = b'$$\n",
    "\n",
    "Now repeat until satisfying the condition\n",
    "$$x^{(k)} = (I-A)x^{(k-1)} + d$$\n",
    "\n"
   ]
  },
  {
   "cell_type": "markdown",
   "id": "c081838d-b458-4d1b-b6fb-07e5fe539dac",
   "metadata": {},
   "source": [
    "#### Code implementation"
   ]
  },
  {
   "cell_type": "code",
   "execution_count": 30,
   "id": "e2cfc935-8cce-4790-ba0b-b450bec9e59e",
   "metadata": {},
   "outputs": [],
   "source": [
    "A = np.array([[1, 0.2, 0.4],[0.25, 1, -0.5],[0.25, 0.375, 1]])\n",
    "b = np.array([3.8, -0.5, 4.875])\n",
    "IA = np.eye(3) - A\n",
    "x = [1, 1, 1]"
   ]
  },
  {
   "cell_type": "code",
   "execution_count": 32,
   "id": "d56b8af5-64a0-4e3c-8731-291b4ff80840",
   "metadata": {},
   "outputs": [
    {
     "name": "stdout",
     "output_type": "stream",
     "text": [
      "Iter 4, x=[1.99934375 1.00042969 3.99683594]\n",
      "Iter 4, x=[2.00117969 0.99858203 4.00000293]\n",
      "Iter 4, x=[2.00028242 0.99970654 4.00023682]\n",
      "Iter 4, x=[1.99996396 1.0000478  4.00003944]\n"
     ]
    }
   ],
   "source": [
    "iter = 4\n",
    "for i in range(iter):\n",
    "    x = IA @ x + b\n",
    "    print(f'Iter {iter}, x={x}')"
   ]
  },
  {
   "cell_type": "code",
   "execution_count": null,
   "id": "4fcf4630-43e0-40c2-9453-726d657e3d2d",
   "metadata": {},
   "outputs": [],
   "source": []
  }
 ],
 "metadata": {
  "kernelspec": {
   "display_name": "Python 3 (ipykernel)",
   "language": "python",
   "name": "python3"
  },
  "language_info": {
   "codemirror_mode": {
    "name": "ipython",
    "version": 3
   },
   "file_extension": ".py",
   "mimetype": "text/x-python",
   "name": "python",
   "nbconvert_exporter": "python",
   "pygments_lexer": "ipython3",
   "version": "3.11.9"
  }
 },
 "nbformat": 4,
 "nbformat_minor": 5
}
