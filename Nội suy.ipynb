{
 "cells": [
  {
   "cell_type": "markdown",
   "id": "085f5ca3-c570-4247-acfd-e52c64ccdd98",
   "metadata": {},
   "source": [
    "# Các phương pháp nội suy"
   ]
  },
  {
   "cell_type": "markdown",
   "id": "a1f58f71-7027-4f61-896f-54a4dfd3cead",
   "metadata": {},
   "source": [
    "**Bài toán**: Chúng ta biết được giá trị của hàm số tại các điểm mốc khác nhau $x_1, x_2,...,x_n$ và ta mong muốn tính được gần đúng giá trị của hàm số tại điểm $x_k$ chưa biết nằm giữa các khoảng giá trị trên. Quá trình này được gọi là nội suy.\n",
    "\n",
    "Có nhiều lớp hàm được dùng để xây dựng ra hàm xấp xỉ:\n",
    "* Các đa thức\n",
    "* Các hàm lượng giác\n",
    "* Một số lớp hàm khác\n",
    "\n",
    "**Ý tưởng:** Tìm ra đa thức $p_n(x)$ có bậc là $n$ (hoặc nhỏ hơn) thoả mãn\n",
    "$$p_n(x_1) = f_1,$$\n",
    "$$p_n(x_2) = f_2,$$\n",
    "$$\\vdots$$\n",
    "$$p_n(x_n) = f_n.$$\n",
    "\n",
    "Chúng ta sẽ gọi $p_n$ là đa thức nội suy và $x_1, x_2, ..., x_n$ là các điểm mốc.\n",
    "Nếu $f$ là hàm toán học thì ta gọi $p_n(x)$ là xấp xỉ (hoặc xấp xỉ đa thức) của hàm $f$."
   ]
  },
  {
   "cell_type": "markdown",
   "id": "7e3cd6fe-d60d-400b-aa9a-f7f00e3042cf",
   "metadata": {},
   "source": [
    "## Phương pháp Lagrange\n",
    "**Ý tưởng:** Với $n+1$ cặp giá trị đã biết $(x_0, f_0), (x_1, f_1),...,(x_n, f_n)$ ta xây dựng đa thức $p_n(x)$ có bậc $n$ hoặc nhỏ hơn làm đa thức nội suy cho hàm $f(x)$ trên đoạn $[x_0, x_n]$ thoả mãn \n",
    "$$p_n(k) = f_k, k=0,1,\\cdots,n.$$\n",
    "**Thực hiện:**\n",
    "* **Bước 1:** Tạo ra các đa thức $L_k(x)$ là đa thức bậc $n$ thoả mãn $L_k(x') = 0 , \\forall x' \\in \\{x_0, x_1,...,x_n\\}$. Để thuận lợi, ta đặt $l_k(x) = (x - x_0)(x-x_1)...(x - x_{k-1})(x- x_{k+1})...(x-x_n)$. Sau đó xây dựng\n",
    "$$L_k(x) = \\frac{l_k(x)}{l_k(x_k)}.$$\n",
    "* **Bước 2:** Lập tổ hợp\n",
    "$$p_n(x) = \\sum_{k=0}^n L_k(x)f_k.$$\n",
    "* **Bước 3:** Sử dụng $p_n(x)$ để tính giá trị xấp xỉ giá trị hàm số $f(x)$ tại các điểm khác điểm mốc.\n",
    "* **Bước 4:** Đánh giá sai số."
   ]
  },
  {
   "cell_type": "markdown",
   "id": "fa7a798c-354d-4a0d-930e-933dd5839f63",
   "metadata": {},
   "source": [
    "**Example:** Given $f(x) = cos(x)$. Let $x_0 = 0, x_1 = 0.6, x_2 = 0.9$. Construct interpolation polynomials of degree at most one and at most to approximate $f(0.45)$ and find the absolute error. \n",
    "\n",
    "**Solution:**\n",
    "\n",
    "We have $f_0 = 1, f_1 \\approx 0.825, f_2 \\approx 0.622$.\n",
    "With degree one, we have:\n",
    "$$p_1(x) = L_0(x) f_0 + L_1(x) f_1 = \\frac{x - x_1}{x_0 - x_1}f_1 + \\frac{x - x_0}{x_1 - x_0}f_2 = -\\frac{x - 0.6}{0.6} + \\frac{x}{0.6}0.825$$\n",
    "Hence $p_1(0.45) = 0.86874$. Absolute error $\\Delta_1 = |cos(0.45) - p_1(0.45)| = 0.032.$\n",
    "\n",
    "With degree two, we have\n",
    "$$p_2(x) = L_0(x) f_0 + L_1(x) f_1 + L_2(x) f_2$$\n",
    "$$= \\frac{(x-x_1)(x-x_2)}{(x_0 - x_1)(x_0-x_2)}f_0 + \\frac{(x-x_0)(x-x_2)}{(x_1-x_0)(x_1-x_2)}f_1 + \\frac{(x-x_0)(x-x_1)}{(x_2-x_0)(x_2-x_1)}f_2$$\n",
    "$$= \\frac{(x-0.6)(x-0.9)}{0.54} - \\frac{x(x-0.9)}{0.18}0.825 + \\frac{x(x-0.6)}{0.27}0.622.$$\n",
    "Hence $p_2(0.45) = 0.897625$. Absolute error $\\Delta_2 = |cos(0.45) - p_2(0.45)| = 0.0028.$\n",
    "\n"
   ]
  },
  {
   "cell_type": "markdown",
   "id": "feb2f23a-ed00-4b0c-8f72-46764a810298",
   "metadata": {},
   "source": [
    "## Phương pháp nội suy Newton"
   ]
  },
  {
   "cell_type": "markdown",
   "id": "8a9db544-3c55-4b0c-8d2b-b0fa4e2f3a79",
   "metadata": {},
   "source": [
    "### Sai phân tiến\n",
    "**Thuật toán:**\n",
    "* **INPUT:** Các cặp $(x_0, f_0), (x_1, f_1), ..., (x_n, f_n); \\hat{x}$\n",
    "* **OUTPUT:** Ước lượng $p_n(\\hat{x})$ cho $f(\\hat{x})$.\n",
    "* Các bước triển khai:\n",
    "    *  Khởi tạo $f[x_i] = f_i, (i=0,...,n)$ \n",
    "    *  Với $m=1,...,n-1$:\n",
    "        *  Với $j=0,...,n-m$:\n",
    "\n",
    "$$f[x_j,...,x_{j + m}] = \\frac{f[x_{j + 1},...,x_{j + m}] - f[x_{j},...,x_{j + m -1}]}{x_{j + m} - x_j}$$ \n",
    "Đặt $p_0(\\hat{x}) = f_0$. Với $k=1,...,n$:\n",
    "$$p_{k+1}(\\hat{x}) = p_k (\\hat{x}) + (\\hat{x} - x_0)...(\\hat{x} - x_{k - 1}) f[x_0,...,x_k]$$\n",
    "\n",
    "OUTPUT kết quả $p_n(\\hat{x})$.\n",
    "\n",
    "Ví dụ: Nội suy hàm $f(x)=ln(x)$.\n",
    "\n",
    "| $j$ | $x_j$ | $f_j$ | $\\Delta f_j$ | $\\Delta^2 f_j$ | $\\Delta^3 f_j$ |\n",
    "|:---:|:---:|:---:|:---:|:---:|:---:|\n",
    "|  0 | 8 | 2.07944154 | 0.11778304 | -0.01242252 | 0.00237218 |\n",
    "| 1  | 9 | 2.19722458 | 0.10536052 | -0.01005034 |   |\n",
    "| 2 | 10 | 2.30258509 | 0.09531018 | | |\n",
    "| 3 | 11 | 2.39789527 | | | |\n",
    "\n",
    "Với $$\\Delta f_i = f[x_i, x_{i + 1}] = \\frac{f_{i + 1} - f_i}{x_{i + 1} - x_i}; $$ $$\\Delta^2 f_i = f[x_i, x_{i + 1}, x_{i + 2}] = \\frac{f[x_{i + 1}, x_{i + 2}] - f[x_i, x_{i+1}]}{x_{i + 2} - x_i}$$\n",
    "\n",
    "$$p_3(x) = f_0 + (x-8) \\Delta f_0 + (x-8)(x-9) \\frac{\\Delta^2 f_0}{2} + (x-8)(x-9)(x-10) \\frac{\\Delta^3 f_0}{6}$$"
   ]
  },
  {
   "cell_type": "code",
   "execution_count": 18,
   "id": "283bd6e6-90ba-4561-b48e-12cda84ca995",
   "metadata": {},
   "outputs": [
    {
     "name": "stdout",
     "output_type": "stream",
     "text": [
      "[[1, 5, 2, 7, 4], [4.0, -3.0, 24.99999999999998, -4.285714285714287], [-3.5, 23.33333333333331, -32.539682539682524], [12.196969696969687, -29.40685045948202], [-14.346144881535071]]\n"
     ]
    }
   ],
   "source": [
    "def newton_interpol(data, x_hat, degree = -1):\n",
    "    if degree == -1:\n",
    "        degree = len(data)\n",
    "    delta = []\n",
    "\n",
    "    # Init f^0\n",
    "    for i in range(degree):\n",
    "        delta.append([])\n",
    "    for i in data:\n",
    "        delta[0].append(i[1]);\n",
    "\n",
    "    for m in range(1, degree):\n",
    "        for j in range(degree - m):\n",
    "            delta[m].append((delta[m-1][j+1] - delta[m - 1][j]) / (data[j + m][0] - data[j][0]))\n",
    "    print(delta)\n",
    "\n",
    "data = [[1,1], [2,5], [3,2], [3.2,7], [3.9,4]]\n",
    "x_hat = 9.2\n",
    "\n",
    "newton_interpol(data, x_hat)"
   ]
  },
  {
   "cell_type": "markdown",
   "id": "476bf301-d4d7-4386-a1ef-a4c902ef8b18",
   "metadata": {},
   "source": [
    "## Phương pháp nội suy Spline bậc 3\n"
   ]
  },
  {
   "cell_type": "markdown",
   "id": "fd4b4f77-e904-4ce0-87d2-4e19bdf1b901",
   "metadata": {},
   "source": [
    "Một Spline bậc 3 nội suy hàm $f(x)$ là hàm $g(x)$ thỏa các điều kiện sau :\n",
    "* **(i)** $g(x)$ có đạo hàm đến cấp 2 liên tục trên $[a,b]$.\n",
    "* **(ii)** $g(x)=g_k(x)$ là 1 đa thức bậc 3 trên $[x_k, x_{k+1}], k=0,1,..,n-1$\n",
    "* **(iii)** $g(x_k) = y_k, k=0,1,…, n$\n",
    "\n",
    "**Phương pháp**:\n",
    "* **INPUT:** Các cặp $(x_0, f_0), (x_1, f_1), ..., (x_n, f_n); \\hat{x}$\n",
    "* **OUTPUT:** Ước lượng $g_n(\\hat{x})$ cho $f(\\hat{x})$.\n"
   ]
  },
  {
   "cell_type": "markdown",
   "id": "6de3cebe-b009-44c0-8cc4-c61319782e19",
   "metadata": {},
   "source": [
    "### Xây dựng Spline bậc 3\n",
    "Đa thức bậc 3 $g_k(x)$ có dạng:\n",
    "$$g_k(x) = a_k + b_k (x - x_k) + c_k (x - x_k)^2 + d_k (x - x_k)^3$$\n",
    "\n",
    "Đặt $h_k = x_{k+1} - x_k$, các hệ số $a_k, b_k$ và $d_k$ có thể tính như sau:\n",
    "$$a_k = f_k; $$"
   ]
  },
  {
   "cell_type": "code",
   "execution_count": 1,
   "id": "da9ed5a3-fbe9-4a33-ab81-7e9082574c27",
   "metadata": {},
   "outputs": [
    {
     "name": "stdout",
     "output_type": "stream",
     "text": [
      "-0.06610351187507321\n"
     ]
    }
   ],
   "source": [
    "from scipy import interpolate\n",
    "\n",
    "def f(x):\n",
    "    x_points = [ 0.1, 0.2, 0.3, 0.4]\n",
    "    y_points = [-0.62049958, -0.28398668, 0.00660095, 0.24842440]\n",
    "\n",
    "    tck = interpolate.splrep(x_points, y_points)\n",
    "    return interpolate.splev(x, tck)\n",
    "\n",
    "print(f(1.25))\n",
    "\n",
    "# Not done yet\n",
    "# Please complete it"
   ]
  }
 ],
 "metadata": {
  "kernelspec": {
   "display_name": "Python 3 (ipykernel)",
   "language": "python",
   "name": "python3"
  },
  "language_info": {
   "codemirror_mode": {
    "name": "ipython",
    "version": 3
   },
   "file_extension": ".py",
   "mimetype": "text/x-python",
   "name": "python",
   "nbconvert_exporter": "python",
   "pygments_lexer": "ipython3",
   "version": "3.11.9"
  }
 },
 "nbformat": 4,
 "nbformat_minor": 5
}
