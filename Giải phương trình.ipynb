{
 "cells": [
  {
   "cell_type": "markdown",
   "id": "8560b116-330f-484d-b902-748a5450c460",
   "metadata": {},
   "source": [
    "# Giải gần đúng phương trình\n",
    "## A. Giới thiệu: Bài toán xác định tỉ lệ sinh\n"
   ]
  },
  {
   "cell_type": "markdown",
   "id": "7ad97cf0-cd89-4a2e-925e-d723adfcb8dd",
   "metadata": {
    "jp-MarkdownHeadingCollapsed": true
   },
   "source": [
    "## B. Phương pháp chia đôi\n",
    "Giả sử $f$ là hàm số xác định và liên tục trên khoảng $[a, b]$ và $f(a), f(b)$ trái dấu. Định lý giá trị trung gian nói giữa khoảng $[a, b]$ tồn tại một số $p$ thoả mãn $f(p) = 0$.\n",
    "\n",
    "Phương pháp tiến hành:\n",
    "* Tính $$p_1 = \\frac{a_1 + b_1}{2}$$\n",
    "    * Nếu $f(p_1) = 0$ thì ta được nghiệm cần tìm $p_1$\n",
    "    * Nếu $f(p_1) \\neq 0$ thì ta xét dấu $f(p_1)$ với $f(a_1)$ và $f(b_1)$\n",
    "        * Nếu $f(p_1)$ và $f(a_1)$ cùng dấu thì đặt $a_2 = p_1$, $b_2 = b_1$\n",
    "        * Nếu không thì đặt $a_2 = a_1$, $b_2 = p_1$\n",
    "    * Tiếp tục tính $p_2$\n",
    "    * ..."
   ]
  },
  {
   "cell_type": "markdown",
   "id": "d6ad1ef5-e18c-4fb7-8bd1-54489daaf8f1",
   "metadata": {},
   "source": [
    "**Định lý 2.1**: Nếu lặp lại liên tục các bước trên ta thu được chuỗi các $p_n$ với sai số:\n",
    "\n",
    "$$|p - p_n| < \\frac{b - a}{2^n}$$\n",
    "\n",
    "**Bài tập 1:** Let $f(x) = \\sqrt{x} - \\cos{x}$, find $p_3$ on $[0, 1]$"
   ]
  },
  {
   "cell_type": "markdown",
   "id": "f7565d3d-f866-4a5f-af59-049bf3d47489",
   "metadata": {},
   "source": [
    "$$f'(x) = \\frac{1}{2 \\sqrt{x}} - sin(x)$$"
   ]
  },
  {
   "cell_type": "code",
   "execution_count": 9,
   "id": "c35b330f-d971-4f3c-9be9-567b02f01385",
   "metadata": {},
   "outputs": [],
   "source": [
    "import math\n",
    "\n",
    "def bisection(func, a, b, step):\n",
    "    p = (a + b) / 2\n",
    "    if step <= 1:\n",
    "        return p\n",
    "    if func(p) == 0:\n",
    "        return p\n",
    "    else:\n",
    "        p_s = math.copysign(1, func(p))\n",
    "        a_s = math.copysign(1, func(a))\n",
    "        b_s = math.copysign(1, func(b))\n",
    "        if p_s * a_s < 0:\n",
    "            return bisection(func, a, p, step - 1)\n",
    "        else:\n",
    "            return bisection(func, p, b, step - 1)"
   ]
  },
  {
   "cell_type": "code",
   "execution_count": 10,
   "id": "fb0dd5d3-c67e-4651-b47e-74ffa747c884",
   "metadata": {},
   "outputs": [],
   "source": [
    "def exer_1_f(x):\n",
    "    return math.sqrt(x) - math.cos(x)\n",
    "def grad_exer_1_f(x):\n",
    "    return 1 / (2 * math.sqrt(x)) - math.sin(x)"
   ]
  },
  {
   "cell_type": "code",
   "execution_count": 13,
   "id": "521f771b-7912-4a3b-b135-28dc2756464a",
   "metadata": {},
   "outputs": [
    {
     "data": {
      "text/plain": [
       "0.625"
      ]
     },
     "execution_count": 13,
     "metadata": {},
     "output_type": "execute_result"
    }
   ],
   "source": [
    "bisection(exer_1_f, 0, 1, 3)"
   ]
  },
  {
   "cell_type": "markdown",
   "id": "7897b87d-e676-42e0-9087-77b39916821c",
   "metadata": {},
   "source": [
    "## C. Phương pháp điểm bất động\n",
    "Điểm bất động của một hàm số mà tại đó giá trị của hàm số bằng đúng giá trị của đối số. Hay nói cách khác $p$ là điểm bất động của hàm số $g(x)$ nếu\n",
    "$$g(p) = p$$"
   ]
  },
  {
   "cell_type": "markdown",
   "id": "11793a9d-997f-4477-b549-7e39bec9e798",
   "metadata": {},
   "source": [
    "**Định lý**: Nếu $g \\in C[a, b]$ và $g(x) \\in [a,b], \\forall x \\in [a, b]$, khi đó $g$ có ít nhất một điểm bất động trên $[a, b]$.\n",
    "\n",
    "Hơn nữa, nếu $g'(x)$ tồn tại trên $(a, b)$ và tồn tại hằng số dương $k < 1$ thoả mãn $|g'(x)| \\le k, \\forall x \\in [a, b]$. Khi đó tồn tại duy nhất một nghiệm trên $(a,b)$."
   ]
  },
  {
   "cell_type": "markdown",
   "id": "4da6bca6-bc43-4238-a3e8-d3375684b73b",
   "metadata": {},
   "source": [
    "## D. Phương pháp Newton, dây cung, điểm sai"
   ]
  },
  {
   "cell_type": "markdown",
   "id": "58797ec8-1eb7-4188-9ff6-1a361fa79249",
   "metadata": {
    "jp-MarkdownHeadingCollapsed": true
   },
   "source": [
    "### Phương pháp Newton\n",
    "Chọn $p_0$ thoả mãn $f(p_0) f''(p_0) > 0$, công thức lặp của phương pháp Newton:\n",
    "$$p_n = p_{n-1} - \\frac{f(p_{n-1})}{f'(p_{n-1})}$$"
   ]
  },
  {
   "cell_type": "code",
   "execution_count": 1,
   "id": "897a71e1-9d71-40d3-bc9d-4c8c768261a6",
   "metadata": {},
   "outputs": [],
   "source": [
    "def newton_method(p_0_, func, grad, tolerance=1e-3, max_iter=100):\n",
    "    p_0 = p_0_\n",
    "    while max_iter > 0:\n",
    "        p = p_0 - func(p_0) / grad(p_0)\n",
    "        if p - p_0 < tolerance:\n",
    "            return p\n",
    "        else:\n",
    "            p_0 = p\n",
    "        max_iter -= 1"
   ]
  },
  {
   "cell_type": "code",
   "execution_count": 9,
   "id": "f81dbbb2-6ecc-4fb3-a6dc-321857343f04",
   "metadata": {},
   "outputs": [
    {
     "name": "stdout",
     "output_type": "stream",
     "text": [
      "0.7395361335152383\n",
      "-0.000754874682502682\n"
     ]
    }
   ],
   "source": [
    "import math\n",
    "\n",
    "def sample_func(x):\n",
    "    return math.cos(x) - x\n",
    "def sample_grad(x):\n",
    "    return -math.sin(x) - 1\n",
    "\n",
    "solution = newton_method(math.pi / 4, sample_func, sample_grad, 1e-6, 30)\n",
    "print(solution)\n",
    "print(sample_func(solution))"
   ]
  },
  {
   "cell_type": "markdown",
   "id": "2a58fd21-4493-4e84-95ec-305a5b297a31",
   "metadata": {},
   "source": [
    "### Phương pháp dây cung\n",
    "Tuy nhiên tìm đạo hàm cấp 2 có thể khó khăn. Phương pháp dây cung (Secant method) sẽ giải quyết vấn đề này. Công thức phương pháp dây cung\n",
    "\n",
    "$$p_n = p_{n-1} - \\frac{f(p_{n-1})(p_{n-1} - p_{n - 2})}{f(p_{n-1}) - f(p_{n-2})}$$\n"
   ]
  },
  {
   "cell_type": "code",
   "execution_count": 55,
   "id": "5f0a1795-7a14-47d5-aa7f-e7648f12508d",
   "metadata": {},
   "outputs": [],
   "source": [
    "def secant_method(p_0_, p_1_, func, tolerance=1e-3, max_iter=100):\n",
    "    p = None\n",
    "    p_0 = p_0_\n",
    "    p_1 = p_1_\n",
    "    iter = 2\n",
    "    while max_iter > 0:\n",
    "        p = p_1 - func(p_1) * (p_1 - p_0) / (func(p_1) - func(p_0))\n",
    "        print(f\"p_{iter}= {p}, Sai so = {abs(p - p_1)}\")\n",
    "        if abs(p - p_1) < tolerance:\n",
    "            return p\n",
    "        else:\n",
    "            p_0 = p\n",
    "        p_0 = p_1\n",
    "        p_1 = p\n",
    "        max_iter -= 1\n",
    "        iter += 1\n",
    "    return p\n"
   ]
  },
  {
   "cell_type": "code",
   "execution_count": 59,
   "id": "c9a396b7-1993-40a6-a6cf-dd883cffb5db",
   "metadata": {},
   "outputs": [
    {
     "name": "stdout",
     "output_type": "stream",
     "text": [
      "p_2= 0.7363841388365822, Sai so = 0.04901402456086612\n",
      "p_3= 0.7390581392138897, Sai so = 0.0026740003773075838\n",
      "p_4= 0.7390851493372764, Sai so = 2.7010123386683738e-05\n",
      "p_5= 0.7390851332150645, Sai so = 1.6122211898839112e-08\n",
      "0.7390851332150645\n",
      "1.6087131626818518e-13\n"
     ]
    }
   ],
   "source": [
    "# math.e ** x + 2 ** (-x) + 2 * math.cos(x) - 6    1    2\n",
    "# math.log(x - 1) + math.cos(x - 1)                1.3  2\n",
    "# 2 * x * math.cos(x) - (x - 2) ** 2               2    3             3     4\n",
    "def func_p(x):\n",
    "    return math.cos(x) - x\n",
    "start = 0.5\n",
    "end = math.pi / 4\n",
    "solution = secant_method(start, end, func_p, 1e-5, 300)\n",
    "print(solution)\n",
    "print(func_p(solution))"
   ]
  },
  {
   "cell_type": "markdown",
   "id": "0e274ff7-418a-4c88-bc08-b3049fb221a7",
   "metadata": {},
   "source": [
    "### Phương pháp điểm sai\n",
    "Phương pháp điểm sai là sự kết hợp giữa phương pháp chia đôi và phương pháp dây cung. Với mỗi lượt tính ra $p_n$, ta sẽ tiến hành kiểm tra dấu của $f(p_n)f(p_{n-1})$. Nếu chúng trái dấu nhau thì mới thực hiện như bình thường với vòng lặp tiếp, còn không thì sẽ sử dụng như sau\n",
    "$$p_{n+1} = p_{n} - \\frac{f(p_{n})(p_{n} - p_{n - 2})}{f(p_{n}) - f(p_{n-2})}$$\n"
   ]
  },
  {
   "cell_type": "code",
   "execution_count": null,
   "id": "6310a830-ba7f-4bce-937f-c96679c56340",
   "metadata": {},
   "outputs": [],
   "source": [
    "def false_position_method(p_0_, p_1_, func, tolerance=1e-3, max_iter=100):\n",
    "    p = None\n",
    "    p_0 = p_0_\n",
    "    p_1 = p_1_\n",
    "    iter = 2\n",
    "    while max_iter > 0:\n",
    "        p = p_1 - func(p_1) * (p_1 - p_0) / (func(p_1) - func(p_0))\n",
    "        print(f\"p_{iter}= {p}, Sai so = {abs(p - p_1)}\")\n",
    "        if abs(p - p_1) < tolerance:\n",
    "            return p\n",
    "        else:\n",
    "            p_0 = p\n",
    "        if func(p_1) * func(p) < 0:\n",
    "            p_0 = p_1\n",
    "        p_1 = p\n",
    "        max_iter -= 1\n",
    "        iter += 1\n",
    "    return p"
   ]
  }
 ],
 "metadata": {
  "kernelspec": {
   "display_name": "Python 3 (ipykernel)",
   "language": "python",
   "name": "python3"
  },
  "language_info": {
   "codemirror_mode": {
    "name": "ipython",
    "version": 3
   },
   "file_extension": ".py",
   "mimetype": "text/x-python",
   "name": "python",
   "nbconvert_exporter": "python",
   "pygments_lexer": "ipython3",
   "version": "3.11.9"
  }
 },
 "nbformat": 4,
 "nbformat_minor": 5
}
