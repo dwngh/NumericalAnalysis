{
 "cells": [
  {
   "cell_type": "markdown",
   "id": "ed534cd5-60e4-4d65-9506-613bbe1e8d87",
   "metadata": {},
   "source": [
    "# Giải hệ phương trình tuyến tính"
   ]
  },
  {
   "cell_type": "markdown",
   "id": "458b5cb7-fcb9-4f7e-9b11-f964e4231409",
   "metadata": {},
   "source": [
    "## A. Giải chính xác hệ phương trình tuyến tính\n",
    "Khi thực hiện các phép toán trên số gần đúng, ta *đặc biệt* quan tâm tới 2 nguyên tắc:\n",
    "* Tránh trừ 2 số gần đúng gần bằng nhau\n",
    "* Tránh chia cho một số nhỏ (đặc biệt là rất nhỏ)"
   ]
  },
  {
   "cell_type": "markdown",
   "id": "700ef846-0d19-43b6-bf05-e0c1284b4f7d",
   "metadata": {},
   "source": [
    "2 phương pháp giải hệ phương trình từ đại số:\n",
    "* Phương pháp Crammes\n",
    "* Phương pháp khử Gauss (phương pháp phần tử trục xoay)\n",
    "\n",
    "**Ý tưởng**: Từ ma trận $A \\cdot X = b$ ta đưa về ma trận $C \\cdot X = b'$ với $C$ là ma trận tam giác trên.\n",
    "\n"
   ]
  },
  {
   "cell_type": "markdown",
   "id": "8d55bd99-d9cd-4939-bc79-4be888fe67fd",
   "metadata": {},
   "source": [
    "Giả sử có ta có hệ phương trình với các phương trình như sau\n",
    "$$(E_k): \\sum_{i=0}^n a_{ki} x_{i} = b_k, 1 \\le k \\le n$$\n",
    "\n",
    "Chuyển về ma trận\n",
    "$$\n",
    "\\begin{bmatrix}\n",
    "a_{11} & a_{12} & \\cdots & a_{1n}\\\\\n",
    "a_{21} & a_{22} & \\cdots & a_{2n}\\\\\n",
    "\\vdots & \\vdots & \\ddots  & \\vdots \\\\\n",
    "a_{n1} & a_{n2} & \\cdots & a_{nn}\\\\\n",
    "\\end{bmatrix} \\cdot \\begin{bmatrix}\n",
    "x_1 \\\\\n",
    "x_2 \\\\\n",
    "\\vdots \\\\\n",
    "x_n \\\\\n",
    "\\end{bmatrix} = \\begin{bmatrix}\n",
    "b_1 \\\\\n",
    "b_2 \\\\\n",
    "\\vdots \\\\\n",
    "b_n \\\\\n",
    "\\end{bmatrix}\n",
    "$$\n",
    "$$rank(A) = rank(\\bar{A})$$\n",
    "\n",
    "Quá trình thuận:\n",
    "* **Bước 1:** Nếu $|a_{k1}| = \\max |a_{i1}|$ thì ta đổi chỗ hàng $k$ lên đầu và thay hàng đầu xuống. Sau đó khử tất cả các hệ số của $x_1$ trong các phương trình $(E_i), i \\ge 2$\n",
    "* **Bước 2:** Nếu $|a_{s2}| = \\max |a_{i2}|$ thì ta đổi chỗ hàng $s$ lên hàng 2. Sau đó khử tất cả các hệ số của $x_2$ trong các phương trình $(E_i), i \\ge 3$ .\n",
    "* ...\n",
    "\n",
    "Tiếp tục lặp như vậy cho tới khi nhận được ma trận *tam giác trên*.\n",
    "\n",
    "Quá trình ngược:\n",
    "* **Trường hợp 1**: Tất cả các hàng trong ma trận tam giác trên đều $\\ne 0$.\n",
    "    * Khi đó ta giải được luôn\n",
    "      $$x_n = \\frac{b^{(n-1)}_{n}}{a^{(n-1)}_{nn}}.$$\n",
    "    * Thay giá trị $x_n$ vào phương trình và làm tương tự cho tới khi tìm được tất cả $x_i, (i = \\overline{1,...,n}).$\n",
    "* **Trường hợp 2**: Ta có $k$ hàng $0$ và $rank(A) = rank(\\bar{A})$.\n",
    "    * Khi đó ta đặt $x_n = t_1, x_{n-1} = t_2,...,x_{n-k+1} = t_k$, với $t_i \\in \\mathbb{R}$ tuỳ ý.\n",
    "    * Ta chuyển các số hạng có $t_i$ sáng vế phải và nhận được hệ phương trình có $(n-k)$ phương trình với $(n-k)$ ẩn và tất cả phần tử trên đường chéo chính $\\ne 0$.\n",
    "    * Tiếp tục giải như trường hợp 1.\n",
    "\n",
    "\n",
    "\n"
   ]
  },
  {
   "cell_type": "code",
   "execution_count": 5,
   "id": "2c164cb4-1fde-4fd0-9d64-e21715e09887",
   "metadata": {},
   "outputs": [
    {
     "name": "stdout",
     "output_type": "stream",
     "text": [
      "[   0.            2.94285714  -49.94285714 -132.17142857]\n"
     ]
    }
   ],
   "source": [
    "import numpy as np\n",
    "def g_(a, b):\n",
    "    return b - b[0] / a[0] * a\n",
    "a = np.array([35, 1, -1, 38])\n",
    "b = np.array([2, 3, -50, -130])\n",
    "print(g_(a, b))"
   ]
  },
  {
   "cell_type": "markdown",
   "id": "f5c5485b-e641-4d87-84c8-de9fa588b009",
   "metadata": {},
   "source": [
    "## B. Phân tích ma trận\n"
   ]
  },
  {
   "cell_type": "markdown",
   "id": "83bb9758-9821-4f3c-a751-e38a4e6c1838",
   "metadata": {},
   "source": [
    "### Phương pháp phân tích LU\n",
    "Giả thiết:\n",
    "$$\n",
    "A = \\begin{bmatrix}\n",
    "a_{11} & a_{12} & \\cdots & a_{1n}\\\\\n",
    "a_{21} & a_{22} & \\cdots & a_{2n}\\\\\n",
    "\\vdots & \\vdots & \\ddots  & \\vdots \\\\\n",
    "a_{n1} & a_{n2} & \\cdots & a_{nn}\\\\\n",
    "\\end{bmatrix}\n",
    "$$\n",
    "\n",
    "Cần xây dựng ma trận $L$ và $U$: $L$ là ma trận tam giác trên, $U$ là ma trận tam giác dưới\n",
    "\n",
    "$$\n",
    "L = \\begin{bmatrix}\n",
    "1 & 0 & \\cdots & 0 \\\\\n",
    "l_{21} & 1 & \\cdots & 0 \\\\\n",
    "\\vdots & \\vdots & \\ddots  & \\vdots \\\\\n",
    "l_{n1} & l_{n2} & \\cdots & 1\\\\\n",
    "\\end{bmatrix}\n",
    "$$\n",
    "\n",
    "$$\n",
    "U = \\begin{bmatrix}\n",
    "u_{11} & u_{12} & \\cdots & u_{1n}\\\\\n",
    "0 & u_{22} & \\cdots & u_{2n}\\\\\n",
    "\\vdots & \\vdots & \\ddots  & \\vdots \\\\\n",
    "0 & 0 & \\cdots & u_{nn}\\\\\n",
    "\\end{bmatrix}\n",
    "$$\n",
    "\n",
    "* **Bước 1:** Chọn $l_{11}$ và $u_{11}$ để thoả mãn $l_{11} u_{11} = a_{11}$. Nếu $l_{11} u_{11} = 0$ thì không thể phân tích.\n",
    "* **Bước 2:** Với $j=2,...,n$ đặt:\n",
    "$$u_{1j} = \\frac{a_{1j}}{l_{11}},$$\n",
    "$$l_{j1} = \\frac{a_{j1}}{u_{11}}.$$\n",
    "* **Bước 3:** Với $i=2,...,n-1$ thực hiện:\n",
    "    * **Bước 4:** Chọn $l_{ii}$ và $u_{ii}$ thoả mãn\n",
    "$$l_{ii}u_{ii} = a_{ii} - \\sum_{k=1}^{i-1}l_{ik}u_{ki}.$$\n",
    "Nếu  $l_{ii}u_{ii} =  0$ thì không thể phân tích.\n",
    "\n",
    "    * **Bước 5:** Với $j=i+1,...,n$ thực hiện\n",
    "$$u_{ij} = \\frac{1}{l_{ii}} [a_{ij} - \\sum_{k=1}^{i-1}l_{ik}u_{kj}],$$\n",
    "$$l_{ji} = \\frac{1}{u_{ii}} [a_{ji} - \\sum_{k=1}^{i-1}l_{jk}u_{ki}].$$\n",
    "\n",
    "* **Bước 6:** Chọn $l_{nn}$ và $u_{nn}$ thoả mãn:\n",
    "$$l_{nn} u_{nn} = a_{nn} - \\sum_{k=1}^{n-1}l_{nk}u_{kn}.$$\n"
   ]
  },
  {
   "cell_type": "markdown",
   "id": "a7aa8b7d-373b-43b2-9cbd-f519621d0b79",
   "metadata": {},
   "source": [
    "#### Ví dụ\n",
    "*Ví dụ:* Phân tích ma trận sau\n",
    "\n",
    "$$\n",
    "A = \\begin{bmatrix}\n",
    "2 & 1 & 2 \\\\\n",
    "-2 & 2 & 1 \\\\\n",
    "1 & 2 & -2 \\\\\n",
    "\\end{bmatrix}\n",
    "$$\n",
    "\n",
    "Ta đặt\n",
    "$$\n",
    "L = \\begin{bmatrix}\n",
    "1 &  0 & 0 \\\\\n",
    "l_{21} & 1 & 0 \\\\\n",
    "l_{31} & l_{32} & 1 \\\\\n",
    "\\end{bmatrix}\n",
    "$$\n",
    "$$\n",
    "U = \\begin{bmatrix}\n",
    "u_{11} &  u_{12} & u_{13} \\\\\n",
    "0 & u_{22} & u_{23} \\\\\n",
    "0 & 0 & u_{33} \\\\\n",
    "\\end{bmatrix}\n",
    "$$\n",
    "\n",
    "**Bước 1:** $u_{11} = 2$\n",
    "\n",
    "**Bước 2:** \n",
    "\n",
    "$$u_{12} = 1, u_{13} = 2$$\n",
    "$$l_{21} = -1, l_{31} = 0.5$$\n",
    "\n",
    "\n",
    "**Bước 3:**\n",
    "$$u_{22} =  a_{22} - l_{21}u_{12} = 3$$\n",
    "$$u_{23} = a_{23} - l_{21}u_{13} = 3$$\n",
    "$$l_{32} = \\frac{1}{u_{33}}(a_{32} - l_{31}u_{12}) = 0.5$$\n",
    "$$u_{33} =  a_{33} - l_{31}u_{13} - l_{32}u_{23} = -4.5$$\n",
    "\n",
    "Như vậy ta được ma trận\n",
    "$$A = LU = \\begin{bmatrix}\n",
    "1 & 0 & 0 \\\\\n",
    "-1 & 1 & 0 \\\\\n",
    "0.5 & 0.5 & 1\\\\\n",
    "\\end{bmatrix} \\cdot \\begin{bmatrix}\n",
    "2 & 1 & 2 \\\\\n",
    "0 & 3 & 3 \\\\\n",
    "0 & 0 & -4.5 \\\\\n",
    "\\end{bmatrix}$$"
   ]
  },
  {
   "cell_type": "code",
   "execution_count": 9,
   "id": "37d9834e-bf67-463e-a2c0-f878ccf10fe0",
   "metadata": {},
   "outputs": [],
   "source": [
    "from numpy import array\n",
    "from scipy.linalg import lu\n",
    "\n",
    "a = array([[0.00651, 26., 2.],[35., 1., -1.],[2., 3., -51.]])\n",
    "np.set_printoptions(suppress=True)\n",
    "pl, u = lu(a, permute_l=True)"
   ]
  },
  {
   "cell_type": "code",
   "execution_count": 10,
   "id": "31a44815-3052-45e9-b996-1552289a9732",
   "metadata": {},
   "outputs": [
    {
     "data": {
      "text/plain": [
       "array([[ 35.        ,   1.        ,  -1.        ],\n",
       "       [  0.        ,  25.999814  ,   2.000186  ],\n",
       "       [  0.        ,   0.        , -51.16925344]])"
      ]
     },
     "execution_count": 10,
     "metadata": {},
     "output_type": "execute_result"
    }
   ],
   "source": [
    "u"
   ]
  },
  {
   "cell_type": "code",
   "execution_count": 11,
   "id": "8c70bb2d-e2e1-4ae4-b41b-d04dac4628bc",
   "metadata": {},
   "outputs": [
    {
     "data": {
      "text/plain": [
       "array([[0.000186  , 1.        , 0.        ],\n",
       "       [1.        , 0.        , 0.        ],\n",
       "       [0.05714286, 0.11318762, 1.        ]])"
      ]
     },
     "execution_count": 11,
     "metadata": {},
     "output_type": "execute_result"
    }
   ],
   "source": [
    "pl"
   ]
  },
  {
   "cell_type": "code",
   "execution_count": 12,
   "id": "cb712474-e50f-4378-9163-82f18a949a1d",
   "metadata": {},
   "outputs": [
    {
     "data": {
      "text/plain": [
       "array([[  0.94936714,  34.88681238,  -1.        ],\n",
       "       [ 26.11411034,   0.2263963 ,   2.000186  ],\n",
       "       [ -2.92395734,  -5.79172616, -51.16925344]])"
      ]
     },
     "execution_count": 12,
     "metadata": {},
     "output_type": "execute_result"
    }
   ],
   "source": [
    "u @ pl"
   ]
  },
  {
   "cell_type": "markdown",
   "id": "61874c43-3b13-406f-a60d-a4a6479f0d45",
   "metadata": {},
   "source": [
    "### Áp dụng phương pháp phân tích LU để giải hệ phương trình\n",
    "Với $A=LU$, ta có thể sử dụng để giải hệ phương trình $Ax = b$ như sau:\n",
    "$$LUx=b$$\n",
    "$$Ux = L^{-1}b$$\n",
    "$$x = U^{-1}(L^{-1}b).$$\n",
    "\n",
    "Như vậy, ta có thể chuyển bài toán tìm x về tìm $y$ thoả mãn $Ly = b$ và $x$ sẽ là nghiệm của phương trình $Ux=y$."
   ]
  },
  {
   "cell_type": "code",
   "execution_count": 7,
   "id": "4e3fcb5c-d82f-4ebc-8dfe-df8f7163c307",
   "metadata": {},
   "outputs": [],
   "source": [
    "def forward_sub(L, b):\n",
    "    \"\"\"x = forward_sub(L, b) is the solution to L x = b\n",
    "       L must be a lower-triangular matrix\n",
    "       b must be a vector of the same leading dimension as L\n",
    "    \"\"\"\n",
    "    n = L.shape[0]\n",
    "    x = np.zeros(n)\n",
    "    for i in range(n):\n",
    "        tmp = b[i]\n",
    "        for j in range(i-1):\n",
    "            tmp -= L[i,j] * x[j]\n",
    "        x[i] = tmp / L[i,i]\n",
    "    return x\n",
    "def back_sub(U, b):\n",
    "    \"\"\"x = back_sub(U, b) is the solution to U x = b\n",
    "       U must be an upper-triangular matrix\n",
    "       b must be a vector of the same leading dimension as U\n",
    "    \"\"\"\n",
    "    n = U.shape[0]\n",
    "    x = np.zeros(n)\n",
    "    for i in range(n-1, -1, -1):\n",
    "        tmp = b[i]\n",
    "        for j in range(i+1, n):\n",
    "            tmp -= U[i,j] * x[j]\n",
    "        x[i] = tmp / U[i,i]\n",
    "    return x\n",
    "def lu_solve(L, U, b):\n",
    "    \"\"\"x = lu_solve(L, U, b) is the solution to L U x = b\n",
    "       L must be a lower-triangular matrix\n",
    "       U must be an upper-triangular matrix of the same size as L\n",
    "       b must be a vector of the same leading dimension as L\n",
    "    \"\"\"\n",
    "    y = forward_sub(L, b)\n",
    "    x = back_sub(U, y)\n",
    "    return x"
   ]
  }
 ],
 "metadata": {
  "kernelspec": {
   "display_name": "Python 3 (ipykernel)",
   "language": "python",
   "name": "python3"
  },
  "language_info": {
   "codemirror_mode": {
    "name": "ipython",
    "version": 3
   },
   "file_extension": ".py",
   "mimetype": "text/x-python",
   "name": "python",
   "nbconvert_exporter": "python",
   "pygments_lexer": "ipython3",
   "version": "3.11.9"
  }
 },
 "nbformat": 4,
 "nbformat_minor": 5
}
